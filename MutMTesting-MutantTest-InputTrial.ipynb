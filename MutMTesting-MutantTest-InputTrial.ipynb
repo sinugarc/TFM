{
 "cells": [
  {
   "cell_type": "code",
   "execution_count": 1,
   "id": "a4c76a39",
   "metadata": {},
   "outputs": [],
   "source": [
    "import random\n",
    "from typing import Callable\n",
    "\n",
    "from MutantTool import mutant_generator\n",
    "from basicFunctions import xor, input_generator\n",
    "from BV_MR3 import BV_Alg_MT, BV_MT3\n",
    "\n",
    "from qiskit import QuantumCircuit, transpile, Aer\n",
    "from qiskit.providers.aer import QasmSimulator\n",
    "\n",
    "svsim = Aer.get_backend('aer_simulator')\n",
    "simulator = QasmSimulator()"
   ]
  },
  {
   "cell_type": "code",
   "execution_count": 5,
   "id": "b784c56a-6dbd-4a36-a9e6-17d03bac30c8",
   "metadata": {},
   "outputs": [],
   "source": [
    "def mutation_MT(original_algorithm : Callable[[int],QuantumCircuit], MR_algorithm : Callable[[QuantumCircuit, [str]],QuantumCircuit],\n",
    "                num_qubits: int, num_mutants : int, num_max_inputs=20, input_OnesComplement=False): \n",
    "    \n",
    "    originalQC = original_algorithm(num_qubits)\n",
    "    mutants = mutant_generator(originalQC, num_mutants)\n",
    "\n",
    "    input_list = input_generator(num_qubits, num_max_inputs)\n",
    "    if input_OnesComplement :\n",
    "        aux = \"1\" * num_qubits\n",
    "        input_pairs = [[input_list[i],xor(input_list[i],aux)]for i in range(len(input_list))]\n",
    "    else:\n",
    "        input_pairs = [[input_list[i],input_list[random.randint(0,len(input_list)-1)]]for i in range(len(input_list))]\n",
    "\n",
    "    print (input_pairs)\n",
    "    results=[]\n",
    "    total=0\n",
    "    final_inputs=set()\n",
    "    for x in mutants:\n",
    "        killed = False\n",
    "        i = 0\n",
    "        \n",
    "        while not killed and i < len(input_pairs):\n",
    "            print(i)\n",
    "            \n",
    "            result_x_i=svsim.run(transpile(MR_algorithm(x,input_pairs[i]),svsim)).result().get_counts()\n",
    "            \n",
    "            if '000' not in result_x_i.keys() or result_x_i['000']!=1024:\n",
    "                killed = True\n",
    "                final_inputs.add(tuple(input_pairs[i]))\n",
    "                \n",
    "            i += 1\n",
    "        total += i  \n",
    "        results.append(killed)\n",
    "\n",
    "    mutants_killed = sum(results)\n",
    "    print(\"Mutants Killed: \",mutants_killed)\n",
    "    \n",
    "    print(\"Mutantion Score: \",mutants_killed/len(results)*100,\"%\")\n",
    "\n",
    "    print(\"Total QP executed: \",total)\n",
    "\n",
    "    print(\"Set of inputs used: \", final_inputs)\n",
    "    \n"
   ]
  },
  {
   "cell_type": "code",
   "execution_count": 3,
   "id": "3c6ee5eb-1bd9-41ae-81e6-579deb85bca7",
   "metadata": {},
   "outputs": [
    {
     "name": "stdout",
     "output_type": "stream",
     "text": [
      "Mutants Killed:  5\n",
      "Mutantion Score:  100.0 %\n",
      "Total QP executed:  6\n",
      "Set of inputs used:  {('000', '111'), ('001', '101')}\n"
     ]
    }
   ],
   "source": [
    "algorithm = BV_Alg_MT\n",
    "MR_algorithm = BV_MT3\n",
    "\n",
    "num_qubits = 3\n",
    "num_mutants = 5\n",
    "num_max_inputs = 10\n",
    "\n",
    "mutation_MT(algorithm,MR_algorithm, num_qubits, num_mutants, num_max_inputs)"
   ]
  },
  {
   "cell_type": "code",
   "execution_count": 4,
   "id": "e385179c-5aa7-473b-9926-89eef3c5e230",
   "metadata": {},
   "outputs": [
    {
     "name": "stdout",
     "output_type": "stream",
     "text": [
      "Mutants Killed:  5\n",
      "Mutantion Score:  100.0 %\n",
      "Total QP executed:  5\n",
      "Set of inputs used:  {('000', '001')}\n"
     ]
    }
   ],
   "source": [
    "mutation_MT(algorithm,MR_algorithm, num_qubits, num_mutants, num_max_inputs)"
   ]
  },
  {
   "cell_type": "code",
   "execution_count": 5,
   "id": "9a7947b6-7e9e-41df-8d7e-8bb37377e9c9",
   "metadata": {},
   "outputs": [
    {
     "name": "stdout",
     "output_type": "stream",
     "text": [
      "Mutants Killed:  5\n",
      "Mutantion Score:  100.0 %\n",
      "Total QP executed:  5\n",
      "Set of inputs used:  {('1011', '1101')}\n"
     ]
    }
   ],
   "source": [
    "algorithm = BV_Alg_MT\n",
    "MR_algorithm = BV_MT3\n",
    "\n",
    "num_qubits = 4\n",
    "num_mutants = 5\n",
    "num_max_inputs = 10\n",
    "\n",
    "mutation_MT(algorithm,MR_algorithm, num_qubits, num_mutants, num_max_inputs)"
   ]
  },
  {
   "cell_type": "code",
   "execution_count": 6,
   "id": "8dcdc44d-6569-4f9d-a3b9-cfadfd27daec",
   "metadata": {},
   "outputs": [
    {
     "name": "stdout",
     "output_type": "stream",
     "text": [
      "Mutants Killed:  5\n",
      "Mutantion Score:  100.0 %\n",
      "Total QP executed:  5\n",
      "Set of inputs used:  {('00110', '00000')}\n"
     ]
    }
   ],
   "source": [
    "algorithm = BV_Alg_MT\n",
    "MR_algorithm = BV_MT3\n",
    "\n",
    "num_qubits = 5\n",
    "num_mutants = 5\n",
    "num_max_inputs = 10\n",
    "\n",
    "mutation_MT(algorithm,MR_algorithm, num_qubits, num_mutants, num_max_inputs)"
   ]
  },
  {
   "cell_type": "code",
   "execution_count": 7,
   "id": "f644a6f0-0f0b-42ec-9988-974aa7211f30",
   "metadata": {},
   "outputs": [
    {
     "name": "stdout",
     "output_type": "stream",
     "text": [
      "Mutants Killed:  10\n",
      "Mutantion Score:  100.0 %\n",
      "Total QP executed:  10\n",
      "Set of inputs used:  {('000', '110')}\n"
     ]
    }
   ],
   "source": [
    "algorithm = BV_Alg_MT\n",
    "MR_algorithm = BV_MT3\n",
    "\n",
    "num_qubits = 3\n",
    "num_mutants = 10\n",
    "num_max_inputs = 10\n",
    "\n",
    "mutation_MT(algorithm,MR_algorithm, num_qubits, num_mutants, num_max_inputs)"
   ]
  },
  {
   "cell_type": "code",
   "execution_count": 4,
   "id": "cf548ab6-6746-468d-9ca9-6187609431ac",
   "metadata": {},
   "outputs": [
    {
     "name": "stdout",
     "output_type": "stream",
     "text": [
      "Mutants Killed:  30\n",
      "Mutantion Score:  100.0 %\n",
      "Total QP executed:  58\n",
      "Set of inputs used:  {('000', '101'), ('100', '010'), ('010', '111')}\n"
     ]
    }
   ],
   "source": [
    "algorithm = BV_Alg_MT\n",
    "MR_algorithm = BV_MT3\n",
    "\n",
    "num_qubits = 3\n",
    "num_mutants = 30\n",
    "num_max_inputs = 10\n",
    "\n",
    "mutation_MT(algorithm,MR_algorithm, num_qubits, num_mutants, num_max_inputs)"
   ]
  },
  {
   "cell_type": "code",
   "execution_count": 12,
   "id": "a34dbfdf-f94e-461f-ae47-09308723ee5b",
   "metadata": {},
   "outputs": [
    {
     "name": "stdout",
     "output_type": "stream",
     "text": [
      "Mutants Killed:  50\n",
      "Mutantion Score:  100.0 %\n",
      "Total QP executed:  50\n",
      "Set of inputs used:  {('0011', '1100')}\n"
     ]
    }
   ],
   "source": [
    "num_qubits = 4\n",
    "num_mutants = 50\n",
    "num_max_inputs = 10\n",
    "\n",
    "mutation_MT(algorithm,MR_algorithm, num_qubits, num_mutants, num_max_inputs)"
   ]
  },
  {
   "cell_type": "code",
   "execution_count": 16,
   "id": "bff249dd-5dce-4179-af92-002069a2315f",
   "metadata": {},
   "outputs": [
    {
     "name": "stdout",
     "output_type": "stream",
     "text": [
      "Mutants Killed:  100\n",
      "Mutantion Score:  100.0 %\n",
      "Total QP executed:  100\n",
      "Set of inputs used:  {('01001', '00011')}\n"
     ]
    }
   ],
   "source": [
    "num_qubits = 5\n",
    "num_mutants = 100\n",
    "num_max_inputs = 10\n",
    "\n",
    "mutation_MT(algorithm,MR_algorithm, num_qubits, num_mutants, num_max_inputs)"
   ]
  },
  {
   "cell_type": "code",
   "execution_count": 20,
   "id": "a521b764-e5a9-426f-8e17-abcb3b0947d5",
   "metadata": {},
   "outputs": [
    {
     "name": "stdout",
     "output_type": "stream",
     "text": [
      "Mutants Killed:  100\n",
      "Mutantion Score:  100.0 %\n",
      "Total QP executed:  100\n",
      "Set of inputs used:  {('011110', '111110')}\n"
     ]
    }
   ],
   "source": [
    "num_qubits = 6\n",
    "num_mutants = 100\n",
    "num_max_inputs = 10\n",
    "\n",
    "mutation_MT(algorithm,MR_algorithm, num_qubits, num_mutants, num_max_inputs)"
   ]
  },
  {
   "cell_type": "code",
   "execution_count": 7,
   "id": "2374ffac-aa67-4fd0-8984-e34c53693a74",
   "metadata": {},
   "outputs": [
    {
     "name": "stdout",
     "output_type": "stream",
     "text": [
      "[['10110', '01001'], ['10011', '01100'], ['10101', '01010'], ['11011', '00100'], ['11010', '00101'], ['01100', '10011'], ['01110', '10001'], ['10100', '01011'], ['11110', '00001'], ['10111', '01000']]\n",
      "0\n",
      "0\n",
      "0\n",
      "0\n",
      "0\n",
      "0\n",
      "0\n",
      "0\n",
      "0\n",
      "0\n",
      "Mutants Killed:  10\n",
      "Mutantion Score:  100.0 %\n",
      "Total QP executed:  10\n",
      "Set of inputs used:  {('10110', '01001')}\n"
     ]
    }
   ],
   "source": [
    "algorithm = BV_Alg_MT\n",
    "MR_algorithm = BV_MT3\n",
    "\n",
    "num_qubits = 5\n",
    "num_mutants = 10\n",
    "num_max_inputs = 10\n",
    "\n",
    "# Represents BV_MR1 as it is the particular case where the inputs are One's complementary \n",
    "mutation_MT(algorithm,MR_algorithm, num_qubits, num_mutants, num_max_inputs,input_OnesComplement=True) "
   ]
  }
 ],
 "metadata": {
  "kernelspec": {
   "display_name": "Python 3 (ipykernel)",
   "language": "python",
   "name": "python3"
  },
  "language_info": {
   "codemirror_mode": {
    "name": "ipython",
    "version": 3
   },
   "file_extension": ".py",
   "mimetype": "text/x-python",
   "name": "python",
   "nbconvert_exporter": "python",
   "pygments_lexer": "ipython3",
   "version": "3.9.18"
  }
 },
 "nbformat": 4,
 "nbformat_minor": 5
}
