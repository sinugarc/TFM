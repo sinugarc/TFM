{
 "cells": [
  {
   "cell_type": "code",
   "execution_count": 1,
   "id": "a4c76a39",
   "metadata": {},
   "outputs": [],
   "source": [
    "import random\n",
    "from typing import Callable\n",
    "\n",
    "from MutantTool import mutant_generator\n",
    "from basicFunctions import xor, input_generator\n",
    "from BV_MR3 import BV_Alg_MT, BV_MT1, BV_MT3\n",
    "\n",
    "from qiskit import QuantumCircuit, transpile, Aer\n",
    "from qiskit.providers.aer import QasmSimulator\n",
    "\n",
    "svsim = Aer.get_backend('aer_simulator')\n",
    "simulator = QasmSimulator()"
   ]
  },
  {
   "cell_type": "code",
   "execution_count": 2,
   "id": "b784c56a-6dbd-4a36-a9e6-17d03bac30c8",
   "metadata": {},
   "outputs": [],
   "source": [
    "def mutation_MT(original_algorithm : Callable[[int],QuantumCircuit], MR_algorithm : Callable[[QuantumCircuit, [str]],QuantumCircuit],\n",
    "                num_qubits: int, num_mutants : int, rep : int, num_max_inputs=20, input_OnesComplement=False) : \n",
    "    \n",
    "    originalQC = original_algorithm(num_qubits)\n",
    "    mutants = mutant_generator(originalQC, num_mutants)\n",
    "\n",
    "    input_list = input_generator(num_qubits, num_max_inputs)\n",
    "    if input_OnesComplement :\n",
    "        aux = \"1\" * num_qubits\n",
    "        input_pairs = [[input_list[i],xor(input_list[i],aux)]for i in range(len(input_list))]\n",
    "    else:\n",
    "        input_pairs = [[input_list[i],input_list[random.randint(0,len(input_list)-1)]]for i in range(len(input_list))]\n",
    "\n",
    "    results=[]\n",
    "    total=0\n",
    "    final_inputs=set()\n",
    "    expected_result = \"0\" * num_qubits\n",
    "    for x in mutants:\n",
    "        killed = False\n",
    "        i = 0\n",
    "        \n",
    "        while not killed and i < len(input_pairs):\n",
    "            \n",
    "            result_x_i=svsim.run(transpile(MR_algorithm(x,input_pairs[i]),svsim),shots=rep).result().get_counts()\n",
    "            \n",
    "            if expected_result not in result_x_i.keys() or result_x_i[expected_result]!=rep:\n",
    "                killed = True\n",
    "                final_inputs.add(tuple(input_pairs[i]))\n",
    "        \n",
    "            i += 1\n",
    "            \n",
    "        total += i  \n",
    "        results.append(killed)\n",
    "\n",
    "    mutants_killed = sum(results)\n",
    "    print(\"Mutants Killed: \",mutants_killed)\n",
    "    \n",
    "    print(\"Mutantion Score: \",mutants_killed/len(results)*100,\"%\")\n",
    "\n",
    "    print(\"Total QP executed: \",total)\n",
    "\n",
    "    print(\"Set of inputs used: \", final_inputs)\n",
    "    \n"
   ]
  },
  {
   "cell_type": "code",
   "execution_count": 3,
   "id": "0185972a-708d-42eb-a292-e1bc7fedba97",
   "metadata": {},
   "outputs": [
    {
     "name": "stdout",
     "output_type": "stream",
     "text": [
      "Mutants Killed:  5\n",
      "Mutantion Score:  100.0 %\n",
      "Total QP executed:  6\n",
      "Set of inputs used:  {('000', '101'), ('001', '110')}\n"
     ]
    }
   ],
   "source": [
    "algorithm = BV_Alg_MT\n",
    "MR_algorithm = BV_MT1\n",
    "\n",
    "num_qubits = 3\n",
    "num_mutants = 5\n",
    "num_max_inputs = 10\n",
    "shots = 128\n",
    "\n",
    "mutation_MT(algorithm,MR_algorithm, num_qubits, num_mutants, num_max_inputs, shots)"
   ]
  },
  {
   "cell_type": "code",
   "execution_count": 4,
   "id": "3c6ee5eb-1bd9-41ae-81e6-579deb85bca7",
   "metadata": {},
   "outputs": [
    {
     "name": "stdout",
     "output_type": "stream",
     "text": [
      "Mutants Killed:  5\n",
      "Mutantion Score:  100.0 %\n",
      "Total QP executed:  8\n",
      "Set of inputs used:  {('001', '100'), ('000', '010'), ('010', '110')}\n"
     ]
    }
   ],
   "source": [
    "algorithm = BV_Alg_MT\n",
    "MR_algorithm = BV_MT3\n",
    "\n",
    "num_qubits = 3\n",
    "num_mutants = 5\n",
    "num_max_inputs = 10\n",
    "\n",
    "mutation_MT(algorithm,MR_algorithm, num_qubits, num_mutants, num_max_inputs)"
   ]
  },
  {
   "cell_type": "code",
   "execution_count": 5,
   "id": "e385179c-5aa7-473b-9926-89eef3c5e230",
   "metadata": {},
   "outputs": [
    {
     "name": "stdout",
     "output_type": "stream",
     "text": [
      "Mutants Killed:  5\n",
      "Mutantion Score:  100.0 %\n",
      "Total QP executed:  5\n",
      "Set of inputs used:  {('000', '001')}\n"
     ]
    }
   ],
   "source": [
    "mutation_MT(algorithm,MR_algorithm, num_qubits, num_mutants, num_max_inputs)"
   ]
  },
  {
   "cell_type": "code",
   "execution_count": 6,
   "id": "9a7947b6-7e9e-41df-8d7e-8bb37377e9c9",
   "metadata": {},
   "outputs": [
    {
     "name": "stdout",
     "output_type": "stream",
     "text": [
      "Mutants Killed:  5\n",
      "Mutantion Score:  100.0 %\n",
      "Total QP executed:  5\n",
      "Set of inputs used:  {('0000', '0101')}\n"
     ]
    }
   ],
   "source": [
    "algorithm = BV_Alg_MT\n",
    "MR_algorithm = BV_MT3\n",
    "\n",
    "num_qubits = 4\n",
    "num_mutants = 5\n",
    "num_max_inputs = 10\n",
    "\n",
    "mutation_MT(algorithm,MR_algorithm, num_qubits, num_mutants, num_max_inputs)"
   ]
  },
  {
   "cell_type": "code",
   "execution_count": 7,
   "id": "8dcdc44d-6569-4f9d-a3b9-cfadfd27daec",
   "metadata": {},
   "outputs": [
    {
     "name": "stdout",
     "output_type": "stream",
     "text": [
      "Mutants Killed:  5\n",
      "Mutantion Score:  100.0 %\n",
      "Total QP executed:  5\n",
      "Set of inputs used:  {('11001', '10101')}\n"
     ]
    }
   ],
   "source": [
    "algorithm = BV_Alg_MT\n",
    "MR_algorithm = BV_MT3\n",
    "\n",
    "num_qubits = 5\n",
    "num_mutants = 5\n",
    "num_max_inputs = 10\n",
    "\n",
    "mutation_MT(algorithm,MR_algorithm, num_qubits, num_mutants, num_max_inputs)"
   ]
  },
  {
   "cell_type": "code",
   "execution_count": 8,
   "id": "f644a6f0-0f0b-42ec-9988-974aa7211f30",
   "metadata": {},
   "outputs": [
    {
     "name": "stdout",
     "output_type": "stream",
     "text": [
      "Mutants Killed:  10\n",
      "Mutantion Score:  100.0 %\n",
      "Total QP executed:  16\n",
      "Set of inputs used:  {('000', '101'), ('010', '110')}\n"
     ]
    }
   ],
   "source": [
    "algorithm = BV_Alg_MT\n",
    "MR_algorithm = BV_MT3\n",
    "\n",
    "num_qubits = 3\n",
    "num_mutants = 10\n",
    "num_max_inputs = 10\n",
    "\n",
    "mutation_MT(algorithm,MR_algorithm, num_qubits, num_mutants, num_max_inputs)"
   ]
  },
  {
   "cell_type": "code",
   "execution_count": 9,
   "id": "cf548ab6-6746-468d-9ca9-6187609431ac",
   "metadata": {},
   "outputs": [
    {
     "name": "stdout",
     "output_type": "stream",
     "text": [
      "Mutants Killed:  30\n",
      "Mutantion Score:  100.0 %\n",
      "Total QP executed:  116\n",
      "Set of inputs used:  {('101', '000'), ('010', '111'), ('000', '000'), ('001', '011'), ('011', '110'), ('111', '001')}\n"
     ]
    }
   ],
   "source": [
    "algorithm = BV_Alg_MT\n",
    "MR_algorithm = BV_MT3\n",
    "\n",
    "num_qubits = 3\n",
    "num_mutants = 30\n",
    "num_max_inputs = 10\n",
    "\n",
    "mutation_MT(algorithm,MR_algorithm, num_qubits, num_mutants, num_max_inputs)"
   ]
  },
  {
   "cell_type": "code",
   "execution_count": 10,
   "id": "a34dbfdf-f94e-461f-ae47-09308723ee5b",
   "metadata": {},
   "outputs": [
    {
     "name": "stdout",
     "output_type": "stream",
     "text": [
      "Mutants Killed:  50\n",
      "Mutantion Score:  100.0 %\n",
      "Total QP executed:  65\n",
      "Set of inputs used:  {('0000', '1111'), ('0001', '0010')}\n"
     ]
    }
   ],
   "source": [
    "num_qubits = 4\n",
    "num_mutants = 50\n",
    "num_max_inputs = 10\n",
    "\n",
    "mutation_MT(algorithm,MR_algorithm, num_qubits, num_mutants, num_max_inputs)"
   ]
  },
  {
   "cell_type": "code",
   "execution_count": 11,
   "id": "bff249dd-5dce-4179-af92-002069a2315f",
   "metadata": {},
   "outputs": [
    {
     "name": "stdout",
     "output_type": "stream",
     "text": [
      "Mutants Killed:  100\n",
      "Mutantion Score:  100.0 %\n",
      "Total QP executed:  100\n",
      "Set of inputs used:  {('01010', '01111')}\n"
     ]
    }
   ],
   "source": [
    "num_qubits = 5\n",
    "num_mutants = 100\n",
    "num_max_inputs = 10\n",
    "\n",
    "mutation_MT(algorithm,MR_algorithm, num_qubits, num_mutants, num_max_inputs)"
   ]
  },
  {
   "cell_type": "code",
   "execution_count": 12,
   "id": "a521b764-e5a9-426f-8e17-abcb3b0947d5",
   "metadata": {},
   "outputs": [
    {
     "name": "stdout",
     "output_type": "stream",
     "text": [
      "Mutants Killed:  100\n",
      "Mutantion Score:  100.0 %\n",
      "Total QP executed:  100\n",
      "Set of inputs used:  {('101001', '001001')}\n"
     ]
    }
   ],
   "source": [
    "num_qubits = 6\n",
    "num_mutants = 100\n",
    "num_max_inputs = 10\n",
    "\n",
    "mutation_MT(algorithm,MR_algorithm, num_qubits, num_mutants, num_max_inputs)"
   ]
  },
  {
   "cell_type": "code",
   "execution_count": 13,
   "id": "3fc4a677-0706-4af4-a6ce-645db4370541",
   "metadata": {},
   "outputs": [
    {
     "name": "stdout",
     "output_type": "stream",
     "text": [
      "Mutants Killed:  100\n",
      "Mutantion Score:  100.0 %\n",
      "Total QP executed:  100\n",
      "Set of inputs used:  {('0000000', '0010111')}\n"
     ]
    }
   ],
   "source": [
    "algorithm = BV_Alg_MT\n",
    "MR_algorithm = BV_MT3\n",
    "\n",
    "num_qubits = 7\n",
    "num_mutants = 100\n",
    "num_max_inputs = 10\n",
    "shots = 128\n",
    "\n",
    "mutation_MT(algorithm,MR_algorithm, num_qubits, num_mutants, num_max_inputs, shots)"
   ]
  },
  {
   "cell_type": "code",
   "execution_count": 14,
   "id": "bf345772-b144-4a4e-872e-fb4b54f27d70",
   "metadata": {},
   "outputs": [
    {
     "name": "stdout",
     "output_type": "stream",
     "text": [
      "Mutants Killed:  10\n",
      "Mutantion Score:  100.0 %\n",
      "Total QP executed:  10\n",
      "Set of inputs used:  {('1011001000111110111001101', '0011011100101100101100010')}\n"
     ]
    }
   ],
   "source": [
    "algorithm = BV_Alg_MT\n",
    "MR_algorithm = BV_MT3\n",
    "\n",
    "num_qubits = 25\n",
    "num_mutants = 10\n",
    "num_max_inputs = 10\n",
    "shots = 128\n",
    "\n",
    "mutation_MT(algorithm,MR_algorithm, num_qubits, num_mutants, num_max_inputs, shots)"
   ]
  },
  {
   "cell_type": "code",
   "execution_count": 15,
   "id": "2374ffac-aa67-4fd0-8984-e34c53693a74",
   "metadata": {},
   "outputs": [
    {
     "name": "stdout",
     "output_type": "stream",
     "text": [
      "Mutants Killed:  8\n",
      "Mutantion Score:  80.0 %\n",
      "Total QP executed:  55\n",
      "Set of inputs used:  {('01010', '10101'), ('01100', '10011'), ('10101', '01010')}\n"
     ]
    }
   ],
   "source": [
    "algorithm = BV_Alg_MT\n",
    "MR_algorithm = BV_MT3\n",
    "\n",
    "num_qubits = 5\n",
    "num_mutants = 10\n",
    "num_max_inputs = 10\n",
    "\n",
    "# Represents BV_MR1 as it is the particular case where the inputs are One's complementary \n",
    "mutation_MT(algorithm,MR_algorithm, num_qubits, num_mutants, num_max_inputs,input_OnesComplement=True) "
   ]
  }
 ],
 "metadata": {
  "kernelspec": {
   "display_name": "Python 3 (ipykernel)",
   "language": "python",
   "name": "python3"
  },
  "language_info": {
   "codemirror_mode": {
    "name": "ipython",
    "version": 3
   },
   "file_extension": ".py",
   "mimetype": "text/x-python",
   "name": "python",
   "nbconvert_exporter": "python",
   "pygments_lexer": "ipython3",
   "version": "3.9.18"
  }
 },
 "nbformat": 4,
 "nbformat_minor": 5
}
