{
 "cells": [
  {
   "cell_type": "code",
   "execution_count": 1,
   "id": "a4c76a39",
   "metadata": {},
   "outputs": [],
   "source": [
    "import random\n",
    "from typing import Callable\n",
    "\n",
    "from MutantTool import mutant_generator\n",
    "from basicFunctions import xor, input_generator\n",
    "from BV_MR3 import BV_Alg_MT, BV_MT3\n",
    "\n",
    "from qiskit import QuantumCircuit, transpile, Aer\n",
    "from qiskit.providers.aer import QasmSimulator\n",
    "\n",
    "svsim = Aer.get_backend('aer_simulator')\n",
    "simulator = QasmSimulator()"
   ]
  },
  {
   "cell_type": "code",
   "execution_count": 2,
   "id": "b784c56a-6dbd-4a36-a9e6-17d03bac30c8",
   "metadata": {},
   "outputs": [],
   "source": [
    "def mutation_MT(original_algorithm : Callable[[int],QuantumCircuit], MR_algorithm : Callable[[QuantumCircuit, [str]],QuantumCircuit], num_qubits: int, num_mutants : int, num_max_inputs=20, input_OnesComplement=False): \n",
    "    \n",
    "    originalQC = original_algorithm(num_qubits)\n",
    "    mutants = mutant_generator(originalQC, num_mutants)\n",
    "\n",
    "    input_list = input_generator(num_qubits, num_max_inputs)\n",
    "    if input_OnesComplement :\n",
    "        aux = \"1\" * num_qubits\n",
    "        input_pairs = [[input_list[i],xor(input_list[i],aux)]for i in range(len(input_list))]\n",
    "    else:\n",
    "        input_pairs = [[input_list[i],input_list[random.randint(0,len(input_list)-1)]]for i in range(len(input_list))]\n",
    "\n",
    "    test = [MR_algorithm(x,y) for x in mutants for y in input_pairs]\n",
    "\n",
    "    results = [svsim.run(transpile(x,svsim)).result().get_counts() for x in test]\n",
    "\n",
    "    res_analysis = list(map(lambda x: (x['000']!=1024 if '000' in x.keys() else True),results))\n",
    "\n",
    "    mutants_killed = sum(res_analysis)\n",
    "    print(\"Mutants Killed: \",mutants_killed)\n",
    "    \n",
    "    print(\"Mutantion Score: \",mutants_killed/len(res_analysis)*100,\"%\")\n",
    "    \n",
    "# MutationScore is not real, it accounts if all inputs can kill the respective mutant."
   ]
  },
  {
   "cell_type": "code",
   "execution_count": 3,
   "id": "3c6ee5eb-1bd9-41ae-81e6-579deb85bca7",
   "metadata": {},
   "outputs": [
    {
     "name": "stdout",
     "output_type": "stream",
     "text": [
      "Mutants Killed:  39\n",
      "Mutantion Score:  97.5 %\n"
     ]
    }
   ],
   "source": [
    "algorithm = BV_Alg_MT\n",
    "MR_algorithm = BV_MT3\n",
    "\n",
    "num_qubits = 3\n",
    "num_mutants = 5\n",
    "num_max_inputs = 10\n",
    "\n",
    "mutation_MT(algorithm,MR_algorithm, num_qubits, num_mutants, num_max_inputs)"
   ]
  },
  {
   "cell_type": "code",
   "execution_count": 4,
   "id": "e385179c-5aa7-473b-9926-89eef3c5e230",
   "metadata": {},
   "outputs": [
    {
     "name": "stdout",
     "output_type": "stream",
     "text": [
      "Mutants Killed:  37\n",
      "Mutantion Score:  92.5 %\n"
     ]
    }
   ],
   "source": [
    "mutation_MT(algorithm,MR_algorithm, num_qubits, num_mutants, num_max_inputs)"
   ]
  },
  {
   "cell_type": "code",
   "execution_count": 5,
   "id": "9a7947b6-7e9e-41df-8d7e-8bb37377e9c9",
   "metadata": {},
   "outputs": [
    {
     "name": "stdout",
     "output_type": "stream",
     "text": [
      "Mutants Killed:  50\n",
      "Mutantion Score:  100.0 %\n"
     ]
    }
   ],
   "source": [
    "algorithm = BV_Alg_MT\n",
    "MR_algorithm = BV_MT3\n",
    "\n",
    "num_qubits = 4\n",
    "num_mutants = 5\n",
    "num_max_inputs = 10\n",
    "\n",
    "mutation_MT(algorithm,MR_algorithm, num_qubits, num_mutants, num_max_inputs)"
   ]
  },
  {
   "cell_type": "code",
   "execution_count": 6,
   "id": "8dcdc44d-6569-4f9d-a3b9-cfadfd27daec",
   "metadata": {},
   "outputs": [
    {
     "name": "stdout",
     "output_type": "stream",
     "text": [
      "Mutants Killed:  50\n",
      "Mutantion Score:  100.0 %\n"
     ]
    }
   ],
   "source": [
    "algorithm = BV_Alg_MT\n",
    "MR_algorithm = BV_MT3\n",
    "\n",
    "num_qubits = 5\n",
    "num_mutants = 5\n",
    "num_max_inputs = 10\n",
    "\n",
    "mutation_MT(algorithm,MR_algorithm, num_qubits, num_mutants, num_max_inputs)"
   ]
  },
  {
   "cell_type": "code",
   "execution_count": 7,
   "id": "f644a6f0-0f0b-42ec-9988-974aa7211f30",
   "metadata": {},
   "outputs": [
    {
     "name": "stdout",
     "output_type": "stream",
     "text": [
      "Mutants Killed:  63\n",
      "Mutantion Score:  78.75 %\n"
     ]
    }
   ],
   "source": [
    "algorithm = BV_Alg_MT\n",
    "MR_algorithm = BV_MT3\n",
    "\n",
    "num_qubits = 3\n",
    "num_mutants = 10\n",
    "num_max_inputs = 10\n",
    "\n",
    "mutation_MT(algorithm,MR_algorithm, num_qubits, num_mutants, num_max_inputs)"
   ]
  }
 ],
 "metadata": {
  "kernelspec": {
   "display_name": "Python 3 (ipykernel)",
   "language": "python",
   "name": "python3"
  },
  "language_info": {
   "codemirror_mode": {
    "name": "ipython",
    "version": 3
   },
   "file_extension": ".py",
   "mimetype": "text/x-python",
   "name": "python",
   "nbconvert_exporter": "python",
   "pygments_lexer": "ipython3",
   "version": "3.9.18"
  }
 },
 "nbformat": 4,
 "nbformat_minor": 5
}
