{
 "cells": [
  {
   "cell_type": "code",
   "execution_count": 1,
   "id": "131f78c6",
   "metadata": {},
   "outputs": [],
   "source": [
    "from qiskit import QuantumCircuit, ClassicalRegister, QuantumRegister, transpile, Aer, assemble\n",
    "from qiskit.providers.aer import QasmSimulator\n",
    "from qiskit.visualization import plot_histogram, plot_bloch_multivector\n",
    "from qiskit.tools.visualization import circuit_drawer\n",
    "from qiskit.quantum_info.operators import Operator\n",
    "import numpy as np\n",
    "svsim = Aer.get_backend('aer_simulator')\n",
    "simulator = QasmSimulator()\n",
    "\n",
    "def dj_oracle(case, n):\n",
    "    oracle_qc = QuantumCircuit(n+1)\n",
    "    if case == \"balanced\":\n",
    "        b = np.random.randint(1,2**n)\n",
    "        b_str = format(b, '0'+str(n)+'b')\n",
    "        for qubit in range(len(b_str)):\n",
    "            if b_str[qubit] == '1':\n",
    "                oracle_qc.x(qubit)\n",
    "        for qubit in range(n):\n",
    "            oracle_qc.cx(qubit, n)\n",
    "        for qubit in range(len(b_str)):\n",
    "            if b_str[qubit] == '1':\n",
    "                oracle_qc.x(qubit)\n",
    "    if case == \"constant\":\n",
    "        output = np.random.randint(2)\n",
    "        if output == 1:\n",
    "            oracle_qc.x(n)\n",
    "    oracle_gate = oracle_qc.to_gate()\n",
    "    oracle_gate.name = \"Oracle\" \n",
    "    return oracle_gate"
   ]
  },
  {
   "cell_type": "code",
   "execution_count": 2,
   "id": "4c91dea9",
   "metadata": {},
   "outputs": [],
   "source": [
    "def dj_algorithm(oracle, n):\n",
    "    dj_circuit = QuantumCircuit(n+1, n)\n",
    "    dj_circuit.x(n)\n",
    "    dj_circuit.h(n)\n",
    "    for qubit in range(n):\n",
    "        dj_circuit.h(qubit)\n",
    "    dj_circuit.append(oracle, range(n+1))\n",
    "    for qubit in range(n):\n",
    "        dj_circuit.h(qubit)\n",
    "    \n",
    "    for i in range(n):\n",
    "        dj_circuit.measure(i, i)\n",
    "    \n",
    "    return dj_circuit"
   ]
  },
  {
   "cell_type": "code",
   "execution_count": 3,
   "id": "9728c787",
   "metadata": {},
   "outputs": [],
   "source": [
    "oracle=dj_oracle(\"Balance\",4)"
   ]
  },
  {
   "cell_type": "code",
   "execution_count": 4,
   "id": "4d20afd1",
   "metadata": {},
   "outputs": [
    {
     "name": "stdout",
     "output_type": "stream",
     "text": [
      "     ┌───┐     ┌─────────┐┌───┐┌─┐         \n",
      "q_0: ┤ H ├─────┤0        ├┤ H ├┤M├─────────\n",
      "     ├───┤     │         │├───┤└╥┘┌─┐      \n",
      "q_1: ┤ H ├─────┤1        ├┤ H ├─╫─┤M├──────\n",
      "     ├───┤     │         │├───┤ ║ └╥┘┌─┐   \n",
      "q_2: ┤ H ├─────┤2 Oracle ├┤ H ├─╫──╫─┤M├───\n",
      "     ├───┤     │         │├───┤ ║  ║ └╥┘┌─┐\n",
      "q_3: ┤ H ├─────┤3        ├┤ H ├─╫──╫──╫─┤M├\n",
      "     ├───┤┌───┐│         │└───┘ ║  ║  ║ └╥┘\n",
      "q_4: ┤ X ├┤ H ├┤4        ├──────╫──╫──╫──╫─\n",
      "     └───┘└───┘└─────────┘      ║  ║  ║  ║ \n",
      "c: 4/═══════════════════════════╩══╩══╩══╩═\n",
      "                                0  1  2  3 \n"
     ]
    }
   ],
   "source": [
    "a=dj_algorithm(oracle,4)\n",
    "print(a.draw())"
   ]
  },
  {
   "cell_type": "code",
   "execution_count": 5,
   "id": "68605ff0",
   "metadata": {},
   "outputs": [
    {
     "name": "stdout",
     "output_type": "stream",
     "text": [
      "ccx: {'0000': 1}\n"
     ]
    }
   ],
   "source": [
    "compiled_circuit_a= transpile(a, simulator)\n",
    "job_a = simulator.run(compiled_circuit_a, shots=1)\n",
    "result_a = job_a.result()\n",
    "counts_a = result_a.get_counts(compiled_circuit_a)\n",
    "print(\"ccx:\",counts_a)"
   ]
  },
  {
   "cell_type": "code",
   "execution_count": 18,
   "id": "07bf85aa",
   "metadata": {},
   "outputs": [],
   "source": [
    "def DJ(n:int):\n",
    "    oracleType, oracleValue = np.random.randint(2), np.random.randint(2)\n",
    "    \n",
    "    a = np.random.randint(1,2**n) # this is a hidden parameter for balanced oracle. \n",
    "    \n",
    "    # Creating registers\n",
    "    # n qubits for querying the oracle and one qubit for storing the answer\n",
    "    qr = QuantumRegister(n+1) #all qubits are initialized to zero\n",
    "    # for recording the measurement on the first register\n",
    "    cr = ClassicalRegister(n)\n",
    "    \n",
    "    circuitName = \"DeutschJozsa\"\n",
    "    djCircuit = QuantumCircuit(qr, cr)\n",
    "    \n",
    "    # Create the superposition of all input queries in the first register by applying the Hadamard gate to each qubit.\n",
    "    for i in range(n):\n",
    "        djCircuit.h(qr[i])\n",
    "\n",
    "    # Flip the second register and apply the Hadamard gate.\n",
    "    djCircuit.x(qr[n])\n",
    "    djCircuit.h(qr[n])\n",
    "        \n",
    "    # Apply barrier to mark the beginning of the oracle\n",
    "    djCircuit.barrier()\n",
    "    \n",
    "    for i in range(n):\n",
    "        if (a & (1 << i)):\n",
    "            djCircuit.cx(qr[i], qr[n])\n",
    "            \n",
    "    # Apply barrier to mark the end of the oracle\n",
    "    djCircuit.barrier()\n",
    "    \n",
    "    # Apply Hadamard gates after querying the oracle\n",
    "    for i in range(n):\n",
    "        djCircuit.h(qr[i])\n",
    "        \n",
    "    # Measurement\n",
    "    djCircuit.barrier()\n",
    "    for i in range(n):\n",
    "        djCircuit.measure(qr[i], cr[i])\n",
    "\n",
    "    return (djCircuit,a)"
   ]
  },
  {
   "cell_type": "code",
   "execution_count": 19,
   "id": "1a940945-9f0a-4d4c-be0c-ea56172a7fe6",
   "metadata": {},
   "outputs": [],
   "source": [
    "programs=[DJ(5) for _ in range(20)]"
   ]
  },
  {
   "cell_type": "code",
   "execution_count": 21,
   "id": "7d515ed8-b775-42cc-bd4c-c6ca37ee1800",
   "metadata": {},
   "outputs": [],
   "source": [
    "results = [simulator.run(x[0], svsim, shots=128).result().get_counts() for x in programs]"
   ]
  },
  {
   "cell_type": "code",
   "execution_count": 22,
   "id": "ebe00846-cbf5-42fd-a011-7990da89d38b",
   "metadata": {},
   "outputs": [
    {
     "data": {
      "text/plain": [
       "[{'01001': 128},\n",
       " {'01011': 128},\n",
       " {'11001': 128},\n",
       " {'00110': 128},\n",
       " {'10000': 128},\n",
       " {'00101': 128},\n",
       " {'01110': 128},\n",
       " {'11101': 128},\n",
       " {'01100': 128},\n",
       " {'00100': 128},\n",
       " {'10100': 128},\n",
       " {'00111': 128},\n",
       " {'00110': 128},\n",
       " {'01011': 128},\n",
       " {'11111': 128},\n",
       " {'01011': 128},\n",
       " {'01000': 128},\n",
       " {'10011': 128},\n",
       " {'10000': 128},\n",
       " {'11011': 128}]"
      ]
     },
     "execution_count": 22,
     "metadata": {},
     "output_type": "execute_result"
    }
   ],
   "source": [
    "results"
   ]
  },
  {
   "cell_type": "code",
   "execution_count": 23,
   "id": "4ee002f5-6ac2-4c61-9762-f1cbf1a944fe",
   "metadata": {},
   "outputs": [
    {
     "data": {
      "text/plain": [
       "[9, 11, 25, 6, 16, 5, 14, 29, 12, 4, 20, 7, 6, 11, 31, 11, 8, 19, 16, 27]"
      ]
     },
     "execution_count": 23,
     "metadata": {},
     "output_type": "execute_result"
    }
   ],
   "source": [
    "list(map(lambda x: x[1],programs))"
   ]
  },
  {
   "cell_type": "code",
   "execution_count": 29,
   "id": "b143b3bd-ccf9-4087-80b9-110c0cbac49a",
   "metadata": {},
   "outputs": [
    {
     "data": {
      "text/plain": [
       "14"
      ]
     },
     "execution_count": 29,
     "metadata": {},
     "output_type": "execute_result"
    }
   ],
   "source": [
    "a = np.random.randint(1,32)\n",
    "a"
   ]
  },
  {
   "cell_type": "code",
   "execution_count": 30,
   "id": "c7524e68-ae1b-4e30-ae9e-b6171990fdd7",
   "metadata": {},
   "outputs": [
    {
     "name": "stdout",
     "output_type": "stream",
     "text": [
      "i:  0\n",
      "1<<i:  1\n",
      "a & (1 << i):   0\n",
      "If a & (1 << i):   False\n",
      "i:  1\n",
      "1<<i:  2\n",
      "a & (1 << i):   2\n",
      "If a & (1 << i):   True\n",
      "i:  2\n",
      "1<<i:  4\n",
      "a & (1 << i):   4\n",
      "If a & (1 << i):   True\n",
      "i:  3\n",
      "1<<i:  8\n",
      "a & (1 << i):   8\n",
      "If a & (1 << i):   True\n",
      "i:  4\n",
      "1<<i:  16\n",
      "a & (1 << i):   0\n",
      "If a & (1 << i):   False\n"
     ]
    }
   ],
   "source": [
    "for i in range(5):\n",
    "    print(\"i: \",i)\n",
    "    print(\"1<<i: \",1 << i)\n",
    "    print(\"a & (1 << i):  \",a & (1 << i))\n",
    "    print(\"If a & (1 << i):  \",bool(a & (1 << i)))"
   ]
  },
  {
   "cell_type": "code",
   "execution_count": null,
   "id": "f2581d17-ed3f-4c09-b343-6eed9a5771ea",
   "metadata": {},
   "outputs": [],
   "source": []
  }
 ],
 "metadata": {
  "kernelspec": {
   "display_name": "Python 3 (ipykernel)",
   "language": "python",
   "name": "python3"
  },
  "language_info": {
   "codemirror_mode": {
    "name": "ipython",
    "version": 3
   },
   "file_extension": ".py",
   "mimetype": "text/x-python",
   "name": "python",
   "nbconvert_exporter": "python",
   "pygments_lexer": "ipython3",
   "version": "3.9.18"
  }
 },
 "nbformat": 4,
 "nbformat_minor": 5
}
